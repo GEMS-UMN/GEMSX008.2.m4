{
 "cells": [
  {
   "cell_type": "markdown",
   "id": "5f31da97-07db-449a-88d1-fc42bfb99f73",
   "metadata": {},
   "source": [
    "# **Module 1: Spatial Dependence and Regression**"
   ]
  },
  {
   "cell_type": "markdown",
   "id": "098d4906-eaab-45a5-a65e-51daf5ff0a01",
   "metadata": {},
   "source": [
    "#### Data\n",
    "For this workshop, data are created and saved to the directory `./data-module-1/`.\n",
    "- `mnp.shp` -  a pseudo dataset representing hypothetical pest stress for selected Minnesota counties.\n",
    "\n",
    "#### Software\n",
    "To execute the code you will need a Python environment with the packages imported below. The default environment does not have all required packages to execute this script. Therefore, run the following command beforehand to install `PySAL` (Python Spatial Analysis Library: http://pysal.org/pysal/index.html):\n",
    "- `pip install pysal --user`"
   ]
  },
  {
   "cell_type": "code",
   "execution_count": null,
   "id": "1fb3312f-73b3-4d80-9b3b-2716495c0a74",
   "metadata": {},
   "outputs": [],
   "source": [
    "# general use packages\n",
    "import numpy as np\n",
    "import matplotlib.pyplot as plt\n",
    "import statsmodels.api as statsmodels\n",
    "\n",
    "# geospatial packages\n",
    "import geopandas as gpd\n",
    "from libpysal import weights\n",
    "import esda\n",
    "import spreg\n",
    "from splot.esda import plot_moran, plot_local_autocorrelation\n",
    "from splot.libpysal import plot_spatial_weights\n",
    "\n",
    "import os\n",
    "os.environ['PROJ_LIB'] = '/opt/conda/envs/user_default/share/proj'"
   ]
  },
  {
   "cell_type": "markdown",
   "id": "006bddb3-c1f1-4827-8220-22e44c007cb1",
   "metadata": {},
   "source": [
    "### **Explore input data**"
   ]
  },
  {
   "cell_type": "code",
   "execution_count": null,
   "id": "1a096c7a-c598-4052-b1e6-c22efda4c266",
   "metadata": {},
   "outputs": [],
   "source": [
    "mnp = gpd.read_file(\"./data-module-1/mnp.shp\")\n",
    "print (f\"Coordinate reference system is {mnp.crs}\")\n",
    "print (f\"Number of records is {len(mnp)}\")\n",
    "mnp.head()"
   ]
  },
  {
   "cell_type": "code",
   "execution_count": null,
   "id": "405ebf36-bb00-49aa-b028-153ebeaf7221",
   "metadata": {},
   "outputs": [],
   "source": [
    "fig, ax = plt.subplots(figsize=(14,8), tight_layout=True)\n",
    "\n",
    "mnp.plot(ax=ax, column=\"PEST\", legend=True, scheme=\"User_Defined\", cmap=\"YlOrBr\", \n",
    "         edgecolor=\"grey\", classification_kwds=dict(bins=[40,60,80,100,120]),\n",
    "         legend_kwds={\"labels\": [\"< 40\", \"40 - 60\", \"60 - 80\", \"80 - 100\", \"100 - 120\", \"> 120\"]})\n",
    "mnp[\"coords\"] = mnp[\"geometry\"].apply(lambda x: x.representative_point().coords[:])\n",
    "mnp[\"coords\"] = [coords[0] for coords in mnp[\"coords\"]]\n",
    "for idx, row in mnp.iterrows():\n",
    "    ax.annotate(text=idx, xy=row[\"coords\"], horizontalalignment=\"center\")\n",
    "ax.set_title(\"Minnesota Pest Pressure for selected counties\", weight=\"bold\")"
   ]
  },
  {
   "cell_type": "markdown",
   "id": "d225dd28-ab94-4587-9beb-2d181d3e5fc7",
   "metadata": {},
   "source": [
    "### **Spatial weights**"
   ]
  },
  {
   "cell_type": "markdown",
   "id": "e9f4904c-aa09-4cac-b352-0aa8bd17509d",
   "metadata": {},
   "source": [
    "#### How to define a neighbourhood in the form of spatial weights?"
   ]
  },
  {
   "cell_type": "code",
   "execution_count": null,
   "id": "2c7ceaaa-b421-4d03-9386-4ebbb629060c",
   "metadata": {},
   "outputs": [],
   "source": [
    "# calculate neighboring using Queen's case (contiguity)\n",
    "mnp_nbq = weights.contiguity.Queen.from_dataframe(mnp, use_index=False)\n",
    "# calculate neighboring using Rook's case (contiguity)\n",
    "mnp_nbr = weights.contiguity.Rook.from_dataframe(mnp, use_index=False)\n",
    "# calculate neighboring using K-nearest neighbors (distance-based)\n",
    "mnp_nbk3 = weights.distance.KNN.from_dataframe(mnp, k=3)\n",
    "# calculate neighboring by distance (distance-based)\n",
    "mnp_nbd = weights.distance.DistanceBand.from_dataframe(mnp, 80000)"
   ]
  },
  {
   "cell_type": "code",
   "execution_count": null,
   "id": "8a87c3a1-0f25-4d60-9926-113a80694ac0",
   "metadata": {},
   "outputs": [],
   "source": [
    "fig, axs = plt.subplots(2, 2, figsize=(8, 8), tight_layout=True)\n",
    "\n",
    "plot_spatial_weights(mnp_nbq, mnp, ax=axs[0, 0])\n",
    "axs[0, 0].set_title(\"Queen's Case Contiguity\")\n",
    "\n",
    "plot_spatial_weights(mnp_nbr, mnp, ax=axs[0, 1])\n",
    "axs[0, 1].set_title(\"Rook's Case Contiguity\")\n",
    "\n",
    "plot_spatial_weights(mnp_nbk3, mnp, ax=axs[1, 0])\n",
    "axs[1, 0].set_title(\"K-nearest Neighbors (k=3)\")\n",
    "\n",
    "plot_spatial_weights(mnp_nbd, mnp, ax=axs[1, 1])\n",
    "axs[1, 1].set_title(\"Distance (80,000)\")\n",
    "\n",
    "plt.show()"
   ]
  },
  {
   "cell_type": "markdown",
   "id": "0cc1e420-d229-4057-b146-95ab8d69ffa6",
   "metadata": {},
   "source": [
    "#### Characterize a spatial weights matrix"
   ]
  },
  {
   "cell_type": "code",
   "execution_count": null,
   "id": "fb674b89-faee-4310-827a-667ea68199b9",
   "metadata": {},
   "outputs": [],
   "source": [
    "print (f\"Number of units: {mnp_nbd.n}\")\n",
    "print (f\"Number of nonzero weights: {mnp_nbd.nonzero}\")\n",
    "print (f\"Percentage of nonzero weights: {mnp_nbd.pct_nonzero}\")\n",
    "print (f\"Average number of neighbors: {mnp_nbd.mean_neighbors}\")\n",
    "print (f\"Largest number of neighbors is {mnp_nbd.max_neighbors}\")\n",
    "print (f\"Minimum number of neighbors is {mnp_nbd.min_neighbors}\")\n",
    "print (f\"Number of units without any neighbors {len(mnp_nbd.islands)}\")\n",
    "print (f\"Neighbour list: {mnp_nbd.neighbors}\")"
   ]
  },
  {
   "cell_type": "markdown",
   "id": "898d8bba-2c81-4a2d-bb29-b3d9cc39cd9c",
   "metadata": {},
   "source": [
    "#### Spatial weights transformation and weights summary\n",
    "In this examples, we are setting transformations of weights and then computing an adjacency list representation of a weights object. Two different transforms are presented: `B` – Binary and `R` – Row-standardization."
   ]
  },
  {
   "cell_type": "code",
   "execution_count": null,
   "id": "af55f521-3dc3-4d49-9559-f9261cb08ea9",
   "metadata": {},
   "outputs": [],
   "source": [
    "# Spatial Weights Summary - Binary\n",
    "mnp_nbd.set_transform(\"B\")\n",
    "mnp_nbd_lw_r = mnp_nbd.to_adjlist()\n",
    "print (f\"Weights: {mnp_nbd.weights}\")\n",
    "print (\"Weights summary: \")\n",
    "print (mnp_nbd_lw_r[\"weight\"].describe())"
   ]
  },
  {
   "cell_type": "code",
   "execution_count": null,
   "id": "7d30fd27-d707-4010-aa20-454289015aab",
   "metadata": {},
   "outputs": [],
   "source": [
    "# Spatial Weights Summary - Row Standardized\n",
    "mnp_nbd.set_transform(\"R\")\n",
    "mnp_nbd_lw_r = mnp_nbd.to_adjlist()\n",
    "print (f\"Weights: {mnp_nbd.weights}\")\n",
    "print (\"Weights summary: \")\n",
    "print (mnp_nbd_lw_r[\"weight\"].describe())"
   ]
  },
  {
   "cell_type": "markdown",
   "id": "4fb05a38-2c26-451a-a241-6b29b2dc35ab",
   "metadata": {},
   "source": [
    "#### Spatial lag"
   ]
  },
  {
   "cell_type": "code",
   "execution_count": null,
   "id": "1212cf91-a063-47d0-a820-eddfc993bad4",
   "metadata": {},
   "outputs": [],
   "source": [
    "mnp[\"PEST_lag\"] = weights.spatial_lag.lag_spatial(mnp_nbd, mnp[\"PEST\"])"
   ]
  },
  {
   "cell_type": "code",
   "execution_count": null,
   "id": "95194965-4909-48e1-a358-9e7eda3f7597",
   "metadata": {},
   "outputs": [],
   "source": [
    "mnp.head()"
   ]
  },
  {
   "cell_type": "code",
   "execution_count": null,
   "id": "6d13613e-fd83-4e11-a65b-11c75343d938",
   "metadata": {},
   "outputs": [],
   "source": [
    "fig, axs = plt.subplots(1,2, figsize=(12,3), tight_layout=True)\n",
    "\n",
    "mnp.plot(ax=axs[0], column=\"PEST\", cmap=\"plasma\", legend=True, vmin=20, vmax=130)\n",
    "axs[0].set_title(\"Pest Pressure\", weight=\"bold\")\n",
    "\n",
    "mnp.plot(ax=axs[1], column=\"PEST_lag\", cmap=\"plasma\", legend=True, vmin=20, vmax=130)\n",
    "axs[1].set_title(\"Pest Pressure - Spatial Lag\", weight=\"bold\")\n",
    "\n",
    "for idx, row in mnp.iterrows():\n",
    "    axs[0].annotate(text=idx, xy=row[\"coords\"], horizontalalignment=\"center\")\n",
    "    axs[1].annotate(text=idx, xy=row[\"coords\"], horizontalalignment=\"center\")"
   ]
  },
  {
   "cell_type": "markdown",
   "id": "2e31ec2c-9d47-4530-8493-b435f106b091",
   "metadata": {},
   "source": [
    "### **Spatial Autocorrelation**"
   ]
  },
  {
   "cell_type": "markdown",
   "id": "23cf08bf-0868-4d29-9bec-2bcbb76b7076",
   "metadata": {},
   "source": [
    "Spatial autocorrelation measures the correlation of a variable with itself across space. Moran's I statistic is one of the most common measures of spatial autocorrelation. It allows to evaluate whether the pattern presented by the features is clustered, dispersed, or random."
   ]
  },
  {
   "cell_type": "markdown",
   "id": "b16a6057-38b1-43bb-b73d-dbec4bd57473",
   "metadata": {},
   "source": [
    "#### Global Moran's I"
   ]
  },
  {
   "cell_type": "code",
   "execution_count": null,
   "id": "29f76c67-e5f7-4a26-aac9-4f8d36ef0fe1",
   "metadata": {},
   "outputs": [],
   "source": [
    "mi = esda.Moran(mnp[\"PEST\"], mnp_nbd)\n",
    "print (\"Moran's I statistic: {}\".format(mi.I))\n",
    "print (\"p-value of I under randomization assumption: {}\".format(mi.p_rand))\n",
    "print (\"variance of I under randomization assumption: {}\".format(mi.VI_rand))\n",
    "print (\"Expected value under normality assumption: {}\".format(mi.EI))"
   ]
  },
  {
   "cell_type": "code",
   "execution_count": null,
   "id": "08f7980a-ef60-4fd7-8d7f-ee95a0bfff99",
   "metadata": {},
   "outputs": [],
   "source": [
    "plot_moran(mi)\n",
    "plt.show()"
   ]
  },
  {
   "cell_type": "markdown",
   "id": "ec3badda-87d1-45b1-9eac-abcda6e29fa0",
   "metadata": {},
   "source": [
    "#### Local Moran's I"
   ]
  },
  {
   "cell_type": "code",
   "execution_count": null,
   "id": "e70b38f7-b015-4664-b1ea-8b9bd4097f19",
   "metadata": {},
   "outputs": [],
   "source": [
    "mi_loc = esda.Moran_Local(mnp[\"PEST\"], mnp_nbd)\n",
    "print (\"Local Moran's I values: {}\".format(mi_loc.Is))"
   ]
  },
  {
   "cell_type": "code",
   "execution_count": null,
   "id": "437fccc2-56ad-404c-b7f0-a04bf253873f",
   "metadata": {},
   "outputs": [],
   "source": [
    "plot_local_autocorrelation(mi_loc, mnp, \"PEST\")\n",
    "plt.show()"
   ]
  },
  {
   "cell_type": "markdown",
   "id": "477e2f3c-4513-4dc1-820e-49714593a274",
   "metadata": {},
   "source": [
    "### **Spatial Regression Models**"
   ]
  },
  {
   "cell_type": "markdown",
   "id": "9e8df05c-9951-4b49-83dd-aee463820a40",
   "metadata": {},
   "source": [
    "#### Ordinary Least Squares model - NOT Spatial"
   ]
  },
  {
   "cell_type": "code",
   "execution_count": null,
   "id": "5d07b556-828b-4046-8407-12642447f33e",
   "metadata": {},
   "outputs": [],
   "source": [
    "# define dependent (response, or y) and independent (explanatory, or x) variables\n",
    "y = mnp[\"PEST\"].to_numpy()\n",
    "x = mnp[[\"HOST\"]].values"
   ]
  },
  {
   "cell_type": "code",
   "execution_count": null,
   "id": "2bbf050a-103b-4e31-9d25-4e52b01154bc",
   "metadata": {},
   "outputs": [],
   "source": [
    "# adding the constant term\n",
    "x_ = statsmodels.add_constant(x)\n",
    "# performing the regression\n",
    "# and fitting the model\n",
    "result = statsmodels.OLS(y, x_).fit()\n",
    " # printing the summary table\n",
    "print(result.summary())"
   ]
  },
  {
   "cell_type": "markdown",
   "id": "8a2b427d-8abc-4f2c-8453-2cf2e33466e9",
   "metadata": {},
   "source": [
    "#### Ordinary Least Squares model - WITH Spatial Diagnostics"
   ]
  },
  {
   "cell_type": "code",
   "execution_count": null,
   "id": "ce62a4f8-e677-4096-af62-49e319c388d2",
   "metadata": {},
   "outputs": [],
   "source": [
    "mnp_ols = spreg.OLS(y, x, w=mnp_nbd, name_w=\"Distance based\", name_x=[\"HOST\"], name_y=\"PEST\", \n",
    "                 name_ds=\"MN Pest Pressure\", white_test=True, spat_diag=True, moran=True)\n",
    "print(mnp_ols.summary)"
   ]
  },
  {
   "cell_type": "code",
   "execution_count": null,
   "id": "341afeea-3137-4491-88b8-5eeafe830802",
   "metadata": {},
   "outputs": [],
   "source": [
    "mi_ols = esda.Moran(mnp_ols.u, mnp_nbd)\n",
    "print (\"Moran's I statistic: {}\".format(mi_ols.I))"
   ]
  },
  {
   "cell_type": "code",
   "execution_count": null,
   "id": "4da23604-5924-44c3-8c98-1b72bd906c7e",
   "metadata": {},
   "outputs": [],
   "source": [
    "plot_moran(mi_ols)\n",
    "plt.show()"
   ]
  },
  {
   "cell_type": "markdown",
   "id": "21310359-df20-4b95-af66-fbbb032e2bdc",
   "metadata": {},
   "source": [
    "#### ML estimation of the spatial error model"
   ]
  },
  {
   "cell_type": "code",
   "execution_count": null,
   "id": "3a3f95ca-c0af-4f25-b472-8ed3c5164463",
   "metadata": {},
   "outputs": [],
   "source": [
    "mnp_sem = spreg.ML_Error(y, x, w=mnp_nbd, name_w=\"Distance based\", name_x=[\"HOST\"], name_y=\"PEST\", \n",
    "                   name_ds=\"MN Pest Pressure\")\n",
    "print(mnp_sem.summary)"
   ]
  },
  {
   "cell_type": "markdown",
   "id": "32e6f410-43a4-4170-8bca-f3b563fbc40e",
   "metadata": {},
   "source": [
    "#### ML estimation of the spatial lag model"
   ]
  },
  {
   "cell_type": "code",
   "execution_count": null,
   "id": "7a920cc3-a482-456e-8aeb-b8e88b5b64f1",
   "metadata": {},
   "outputs": [],
   "source": [
    "mnp_slm = spreg.ML_Lag(y, x, w=mnp_nbd, name_w=\"Distance based\", name_x=[\"HOST\"], name_y=\"PEST\", \n",
    "                 name_ds=\"MN Pest Pressure\")\n",
    "print (\"Estimate of spatial autoregressive coefficient rho: {}\".format(mnp_slm.rho))\n",
    "print(mnp_slm.summary)"
   ]
  },
  {
   "cell_type": "markdown",
   "id": "d748cdbc-336e-4987-a811-517f372b1f83",
   "metadata": {},
   "source": [
    "#### Spatial Durbin model\n",
    "Although some models are not directly offered by PySal APIs, they can be derived from existing standard models. For example, a spatial Durbin model can be estimated by computing a spatial lag of  independent variables and then adding the set of lagged variables to the original independent variables to run a spatial lag model.  "
   ]
  },
  {
   "cell_type": "code",
   "execution_count": null,
   "id": "29fa92cd-36a4-4d41-b9a6-38d8db320d5b",
   "metadata": {},
   "outputs": [],
   "source": [
    "lag_x = weights.lag_spatial(mnp_nbd, x)\n",
    "new_x = np.hstack((x,lag_x))"
   ]
  },
  {
   "cell_type": "code",
   "execution_count": null,
   "id": "549263a1-329b-41e9-8195-7f91fc24d81a",
   "metadata": {},
   "outputs": [],
   "source": [
    "mnp_sdm = spreg.ML_Lag(y, new_x, w=mnp_nbd, name_w=\"Distance based\", name_x=[\"HOST\", \"HOST_lag\"], name_y=\"PEST\", \n",
    "                 name_ds=\"MN Pest Pressure\")\n",
    "print (\"Estimate of spatial autoregressive coefficient rho: {}\".format(mnp_sdm.rho))\n",
    "print(mnp_sdm.summary)"
   ]
  },
  {
   "cell_type": "markdown",
   "id": "29dad286-3743-4bd6-8d8e-09a6e8c904a6",
   "metadata": {},
   "source": [
    "### **Exercises**\n",
    "#### Data\n",
    "For the exercies, data are created and saved to the directory `./data-module-1/`.\n",
    "- `mwi.shp` -  a dataset downloaded from the Malawi Living Standard Measurement Survey Integrated Household Sample (LSMS-IHS) Data Wave 5 Data (available from https://microdata.worldbank.org/index.php/catalog/3818)."
   ]
  },
  {
   "cell_type": "markdown",
   "id": "dc27f90a-ce71-400d-a829-7ccc5e1bc44a",
   "metadata": {},
   "source": [
    "**Question 1. Read the vector dataset `mwi.shp` into a `GeoDataFrame`. Print its Coordinate Reference System. Explore the attributes of this dataset.**"
   ]
  },
  {
   "cell_type": "code",
   "execution_count": null,
   "id": "7c928cec-daa9-4b88-80d6-3ffa42c99c3b",
   "metadata": {},
   "outputs": [],
   "source": []
  },
  {
   "cell_type": "markdown",
   "id": "c4eb4558-9602-4747-bef6-77e5adf29113",
   "metadata": {},
   "source": [
    "**Question 2. Calculate neighboring using Queen's case (contiguity), Rook's case (contiguity), K-nearest neighbors (k=3), and distance (200,000 m). Visualize and compare all 4 weights networks. What differences do you see?** "
   ]
  },
  {
   "cell_type": "code",
   "execution_count": null,
   "id": "622ea9e8-f762-4a48-bc4c-8a969971d7e9",
   "metadata": {},
   "outputs": [],
   "source": []
  },
  {
   "cell_type": "markdown",
   "id": "5cdbb6a6-e687-440c-9411-37c272d12087",
   "metadata": {},
   "source": [
    "**Question 3.  Print the properties for Distance based spatial weights matrix, such as number of units, number of nonzero weights, etc.**"
   ]
  },
  {
   "cell_type": "code",
   "execution_count": null,
   "id": "6d600510-201c-43ee-a32f-52c8c20a5176",
   "metadata": {},
   "outputs": [],
   "source": []
  },
  {
   "cell_type": "markdown",
   "id": "ec8358f2-1fe3-41a2-9aad-b23b971dfaab",
   "metadata": {},
   "source": [
    "**Question 4. Apply row-standardized transform to your Distance based neighbourhood.**"
   ]
  },
  {
   "cell_type": "code",
   "execution_count": null,
   "id": "18681963-7cd5-437e-b085-4a03266da265",
   "metadata": {},
   "outputs": [],
   "source": []
  },
  {
   "cell_type": "markdown",
   "id": "c8a593c2-1247-43e9-886b-7ad2ebd4f68b",
   "metadata": {},
   "source": [
    "**Question 5. Run the Moran's I statistic to test the spatial autocorrelation for `poverty` variable. Use Distance based neighbouring structure. Visualize Moran's I plot for `poverty` variable.**"
   ]
  },
  {
   "cell_type": "code",
   "execution_count": null,
   "id": "469718e7-25e4-498a-b4c5-904d5abde10c",
   "metadata": {},
   "outputs": [],
   "source": []
  },
  {
   "cell_type": "markdown",
   "id": "40df2fea-ebbe-4066-b988-216b97da5a7a",
   "metadata": {},
   "source": [
    "**Question 6. Compute and visualize Local Moran's I for `poverty` variable.**"
   ]
  },
  {
   "cell_type": "code",
   "execution_count": null,
   "id": "40f5ccbc-d1be-4d49-ad9c-2027a06c2b6b",
   "metadata": {},
   "outputs": [],
   "source": []
  },
  {
   "cell_type": "markdown",
   "id": "413d1a58-5f03-4cb4-acff-0e662edbdd91",
   "metadata": {},
   "source": [
    "**Question 7. Run the Ordinary least squares model with Spatial Diagnostics. Use Distance based neighbouring structure. Predict `poverty` as a function of cropland cultivated `croplnd`, livestock owned `livstck`, share of off-farm income `income`, years of education `edu`, female head of household `female` and tobacco growing household `tobccHH`.**"
   ]
  },
  {
   "cell_type": "code",
   "execution_count": null,
   "id": "81c56bcb-2296-42d0-92fa-85d40a83a57c",
   "metadata": {},
   "outputs": [],
   "source": []
  },
  {
   "cell_type": "markdown",
   "id": "3b370909-8229-4227-8709-5ab5747418c2",
   "metadata": {},
   "source": [
    "**Question 8. Run ML estimation of the spatial lag model. Use the same neighbouring structure, `x`, and `y` formulation as for the previous question.**"
   ]
  },
  {
   "cell_type": "code",
   "execution_count": null,
   "id": "ed568384-7ed1-4ba0-b794-51f25b34e840",
   "metadata": {},
   "outputs": [],
   "source": []
  }
 ],
 "metadata": {
  "kernelspec": {
   "display_name": "Python 3 (ipykernel)",
   "language": "python",
   "name": "python3"
  },
  "language_info": {
   "codemirror_mode": {
    "name": "ipython",
    "version": 3
   },
   "file_extension": ".py",
   "mimetype": "text/x-python",
   "name": "python",
   "nbconvert_exporter": "python",
   "pygments_lexer": "ipython3",
   "version": "3.11.5"
  }
 },
 "nbformat": 4,
 "nbformat_minor": 5
}
