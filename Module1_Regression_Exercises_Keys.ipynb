{
 "cells": [
  {
   "cell_type": "markdown",
   "id": "5f31da97-07db-449a-88d1-fc42bfb99f73",
   "metadata": {},
   "source": [
    "# **Module 1: Spatial Dependence and Regression**"
   ]
  },
  {
   "cell_type": "markdown",
   "id": "8e89bad9-4593-4bcc-afdb-3bcd7b3fe1c0",
   "metadata": {},
   "source": [
    "### **Exercises**\n",
    "#### Data\n",
    "For the exercies, data are created and saved to the directory `./data-module-1/`.\n",
    "- `mwi.shp` -  a dataset downloaded from the Malawi Living Standard Measurement Survey Integrated Household Sample (LSMS-IHS) Data Wave 5 Data (available from https://microdata.worldbank.org/index.php/catalog/3818)."
   ]
  },
  {
   "cell_type": "code",
   "execution_count": null,
   "id": "43c8e283-92da-429a-ba27-2b5611229904",
   "metadata": {},
   "outputs": [],
   "source": [
    "# general use packages\n",
    "import numpy as np\n",
    "import matplotlib.pyplot as plt\n",
    "import statsmodels.api as statsmodels\n",
    "\n",
    "# geospatial packages\n",
    "import geopandas as gpd\n",
    "from libpysal import weights\n",
    "import esda\n",
    "import spreg\n",
    "from splot.esda import plot_moran, plot_local_autocorrelation\n",
    "from splot.libpysal import plot_spatial_weights\n",
    "\n",
    "import os\n",
    "os.environ['PROJ_LIB'] = '/opt/conda/envs/user_default/share/proj'"
   ]
  },
  {
   "cell_type": "markdown",
   "id": "dc27f90a-ce71-400d-a829-7ccc5e1bc44a",
   "metadata": {},
   "source": [
    "**Question 1. Read the vector dataset `mwi.shp` into a `GeoDataFrame`. Print its Coordinate Reference System. Explore the attributes of this dataset.**"
   ]
  },
  {
   "cell_type": "code",
   "execution_count": null,
   "id": "7f3d0604-5a0f-4c4c-9320-df0f27095923",
   "metadata": {},
   "outputs": [],
   "source": [
    "mwi = gpd.read_file(\"./data-module-1/mwi.shp\")\n",
    "print (mwi.crs)\n",
    "mwi.head()"
   ]
  },
  {
   "cell_type": "markdown",
   "id": "c4eb4558-9602-4747-bef6-77e5adf29113",
   "metadata": {},
   "source": [
    "**Question 2. Calculate neighboring using Queen's case (contiguity), Rook's case (contiguity), K-nearest neighbors (k=3), and distance (200,000 m). Visualize and compare all 4 weights networks. What differences do you see?** "
   ]
  },
  {
   "cell_type": "code",
   "execution_count": null,
   "id": "c687c7d0-b51e-42ba-ad2e-b7c7e31896e7",
   "metadata": {},
   "outputs": [],
   "source": [
    "# calculate neighboring using Queen's case (contiguity)\n",
    "mwi_nbq = weights.contiguity.Queen.from_dataframe(mwi, use_index=False)\n",
    "# calculate neighboring using Rook's case (contiguity)\n",
    "mwi_nbr = weights.contiguity.Rook.from_dataframe(mwi, use_index=False)\n",
    "# calculate neighboring using K-nearest neighbors (distance-based)\n",
    "mwi_nbk3 = weights.distance.KNN.from_dataframe(mwi, k=3)\n",
    "# calculate neighboring by distance (distance-based)\n",
    "mwi_nbd = weights.distance.DistanceBand.from_dataframe(mwi, 200000)"
   ]
  },
  {
   "cell_type": "code",
   "execution_count": null,
   "id": "5da64f79-c03c-4370-9b76-88f0e39f4c7c",
   "metadata": {},
   "outputs": [],
   "source": [
    "fig, axs = plt.subplots(1, 4, figsize=(12, 8), tight_layout=True)\n",
    "\n",
    "plot_spatial_weights(mwi_nbq, mwi, ax=axs[0])\n",
    "axs[0].set_title(\"Queen's Case Contiguity\")\n",
    "\n",
    "plot_spatial_weights(mwi_nbr, mwi, ax=axs[1])\n",
    "axs[1].set_title(\"Rook's Case Contiguity\")\n",
    "\n",
    "plot_spatial_weights(mwi_nbk3, mwi, ax=axs[2])\n",
    "axs[2].set_title(\"K-nearest Neighbors (k=3)\")\n",
    "\n",
    "plot_spatial_weights(mwi_nbd, mwi, ax=axs[3])\n",
    "axs[3].set_title(\"Distance (200,000)\")\n",
    "\n",
    "plt.show()"
   ]
  },
  {
   "cell_type": "markdown",
   "id": "1aa52b40-9091-4e9c-9d5a-3d6a641d48f2",
   "metadata": {},
   "source": [
    "**Question 3.  Print the properties for Distance based spatial weights matrix, such as number of units, number of nonzero weights, etc.**"
   ]
  },
  {
   "cell_type": "code",
   "execution_count": null,
   "id": "b0bb0382-612c-47ac-8b11-b831dd564160",
   "metadata": {},
   "outputs": [],
   "source": [
    "print (f\"Number of units: {mwi_nbd.n}\")\n",
    "print (f\"Number of nonzero weights: {mwi_nbd.nonzero}\")\n",
    "print (f\"Percentage of nonzero weights: {mwi_nbd.pct_nonzero}\")\n",
    "print (f\"Average number of neighbors: {mwi_nbd.mean_neighbors}\")\n",
    "print (f\"Largest number of neighbors is {mwi_nbd.max_neighbors}\")\n",
    "print (f\"Minimum number of neighbors is {mwi_nbd.min_neighbors}\")\n",
    "print (f\"Number of units without any neighbors {len(mwi_nbd.islands)}\")\n",
    "print (f\"Neighbour list: {mwi_nbd.neighbors}\")"
   ]
  },
  {
   "cell_type": "markdown",
   "id": "ec8358f2-1fe3-41a2-9aad-b23b971dfaab",
   "metadata": {},
   "source": [
    "**Question 4. Apply row-standardized transform to your Distance based neighbourhood.**"
   ]
  },
  {
   "cell_type": "code",
   "execution_count": null,
   "id": "89c423c3-5ee6-4f54-a969-f67a1e0ecc7e",
   "metadata": {},
   "outputs": [],
   "source": [
    "# Spatial Weights Summary - Row Standardized\n",
    "mwi_nbq.set_transform(\"R\")\n",
    "mwi_nbq_lw_r = mwi_nbq.to_adjlist()\n",
    "print (f\"Weights: {mwi_nbq.weights}\")\n",
    "print (\"Weights summary: \")\n",
    "print (mwi_nbq_lw_r[\"weight\"].describe())"
   ]
  },
  {
   "cell_type": "markdown",
   "id": "c8a593c2-1247-43e9-886b-7ad2ebd4f68b",
   "metadata": {},
   "source": [
    "**Question 5. Run the Moran's I statistic to test the spatial autocorrelation for `poverty` variable. Use Distance based neighbouring structure. Visualize Moran's I plot for `poverty` variable.**"
   ]
  },
  {
   "cell_type": "code",
   "execution_count": null,
   "id": "5e04bf55-33b5-47a6-8e8d-028c892d6f35",
   "metadata": {},
   "outputs": [],
   "source": [
    "mi = esda.moran.Moran(mwi[\"poverty\"], mwi_nbd)\n",
    "print(\"Moran's I statistic: {}\".format(mi.I))\n",
    "print(\"p-value of I under randomization assumption: {}\".format(mi.p_rand))\n",
    "print (\"variance of I under randomization assumption: {}\".format(mi.VI_rand))\n",
    "print (\"Expected value under normality assumption: {}\".format(mi.EI))"
   ]
  },
  {
   "cell_type": "code",
   "execution_count": null,
   "id": "5a4f5634-db0d-4cb1-9b74-0fb1333da3bb",
   "metadata": {},
   "outputs": [],
   "source": [
    "plot_moran(mi)\n",
    "plt.show()"
   ]
  },
  {
   "cell_type": "markdown",
   "id": "6948a263-c3f0-4207-8be7-37a7fd870572",
   "metadata": {},
   "source": [
    "**Question 6. Compute and visualize Local Moran's I for `poverty` variable.**"
   ]
  },
  {
   "cell_type": "code",
   "execution_count": null,
   "id": "7dc8c395-ea4d-4af0-b42d-5778ffe49dec",
   "metadata": {},
   "outputs": [],
   "source": [
    "mi_loc = esda.Moran_Local(mwi[\"poverty\"], mwi_nbd)"
   ]
  },
  {
   "cell_type": "code",
   "execution_count": null,
   "id": "81aeaf81-e731-4ac0-a8ff-5083da656312",
   "metadata": {},
   "outputs": [],
   "source": [
    "plot_local_autocorrelation(mi_loc, mwi, \"poverty\")\n",
    "plt.show()"
   ]
  },
  {
   "cell_type": "markdown",
   "id": "80469477-058e-4811-ac9d-bf2762dd7a7b",
   "metadata": {},
   "source": [
    "**Question 7. Run the Ordinary least squares model with Spatial Diagnostics. Use Distance based neighbouring structure. Predict `poverty` as a function of cropland cultivated `croplnd`, livestock owned `livstck`, share of off-farm income `income`, years of education `edu`, female head of household `female` and tobacco growing household `tobccHH`.**"
   ]
  },
  {
   "cell_type": "code",
   "execution_count": null,
   "id": "5f363755-c5cd-4b01-908e-d8cdab95671b",
   "metadata": {},
   "outputs": [],
   "source": [
    "y = mwi[\"poverty\"].to_numpy()\n",
    "x = mwi[[\"croplnd\", \"livstck\", \"income\", \"edu\", \"female\", \"tobccHH\"]].values"
   ]
  },
  {
   "cell_type": "code",
   "execution_count": null,
   "id": "2abe8f54-9cd3-4216-955d-dc3c4cd2f7f2",
   "metadata": {},
   "outputs": [],
   "source": [
    "mwi_ols = spreg.OLS(y, x, w=mwi_nbd, name_w=\"Distance based\", \n",
    "                    name_x=[\"croplnd\", \"livstck\", \"income\", \"edu\", \"female\", \"tobccHH\"], \n",
    "                    name_y=\"poverty\", name_ds=\"Malawi Poverty function\",\n",
    "                    white_test=True, spat_diag=True, moran=True)"
   ]
  },
  {
   "cell_type": "markdown",
   "id": "413d1a58-5f03-4cb4-acff-0e662edbdd91",
   "metadata": {},
   "source": [
    "**Question 8. Run ML estimation of the spatial lag model. Use the same neighbouring structure, `x`, and `y` formulation as for the previous question.**"
   ]
  },
  {
   "cell_type": "code",
   "execution_count": null,
   "id": "a1775480-9558-48d5-a5a7-7832bb58f914",
   "metadata": {},
   "outputs": [],
   "source": [
    "mwi_slm = spreg.ML_Lag(y, x, w=mwi_nbd, name_w=\"Distance based\", \n",
    "                       name_x=[\"croplnd\", \"livstck\", \"income\", \"edu\", \"female\", \"tobccHH\"],\n",
    "                       name_y=\"poverty\", name_ds=\"Malawi Poverty function\")\n",
    "print(mwi_slm.summary)"
   ]
  }
 ],
 "metadata": {
  "kernelspec": {
   "display_name": "Python 3 (ipykernel)",
   "language": "python",
   "name": "python3"
  },
  "language_info": {
   "codemirror_mode": {
    "name": "ipython",
    "version": 3
   },
   "file_extension": ".py",
   "mimetype": "text/x-python",
   "name": "python",
   "nbconvert_exporter": "python",
   "pygments_lexer": "ipython3",
   "version": "3.11.5"
  }
 },
 "nbformat": 4,
 "nbformat_minor": 5
}
