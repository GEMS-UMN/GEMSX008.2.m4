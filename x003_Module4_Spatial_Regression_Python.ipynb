{
 "cells": [
  {
   "cell_type": "markdown",
   "id": "5f31da97-07db-449a-88d1-fc42bfb99f73",
   "metadata": {},
   "source": [
    "# **Module 4: Spatial Dependence and Regression**\n",
    "## **Prerequisites**\n",
    "### Data\n",
    "For this workshop, data are created and saved to the directory `./data-module-4/`.\n",
    "- `mnp.shp` -  a pseudo dataset representing hypothetical pest stress for selected Minnesota counties.\n",
    "### Software\n",
    "To execute the code you will need a `conda` environment for Python with the packages imported below."
   ]
  },
  {
   "cell_type": "code",
   "execution_count": null,
   "id": "43c8e283-92da-429a-ba27-2b5611229904",
   "metadata": {},
   "outputs": [],
   "source": [
    "import geopandas as gpd\n",
    "import numpy as np\n",
    "import matplotlib.pyplot as plt\n",
    "from pysal.lib import weights\n",
    "from spreg import ML_Error_Regimes, ML_Lag, ML_Error, OLS\n",
    "from splot.libpysal import plot_spatial_weights\n",
    "import esda \n",
    "from splot.esda import plot_moran"
   ]
  },
  {
   "cell_type": "markdown",
   "id": "006bddb3-c1f1-4827-8220-22e44c007cb1",
   "metadata": {},
   "source": [
    "### Read and visualize input data"
   ]
  },
  {
   "cell_type": "code",
   "execution_count": null,
   "id": "1a096c7a-c598-4052-b1e6-c22efda4c266",
   "metadata": {},
   "outputs": [],
   "source": [
    "mnp = gpd.read_file(\"./data-module-4/mnp.shp\")\n",
    "print (\"Coordinate reference system is {}\".format(mnp.crs))\n",
    "print (\"Number of records is {}\".format(len(mnp)))\n",
    "mnp.head()"
   ]
  },
  {
   "cell_type": "code",
   "execution_count": null,
   "id": "405ebf36-bb00-49aa-b028-153ebeaf7221",
   "metadata": {},
   "outputs": [],
   "source": [
    "fig, ax = plt.subplots(figsize=(14,8))\n",
    "mnp.plot(ax=ax, column=\"PEST\", legend=True, scheme=\"User_Defined\", cmap=\"YlOrBr\", \n",
    "         edgecolor=\"grey\", classification_kwds=dict(bins=[40,60,80,100,120]),\n",
    "         legend_kwds={\"labels\": [\"< 40\", \"40 - 60\", \"60 - 80\", \"80 - 100\", \"100 - 120\", \"> 120\"]})\n",
    "mnp[\"coords\"] = mnp[\"geometry\"].apply(lambda x: x.representative_point().coords[:])\n",
    "mnp[\"coords\"] = [coords[0] for coords in mnp[\"coords\"]]\n",
    "for idx, row in mnp.iterrows():\n",
    "    ax.annotate(text=idx, xy=row[\"coords\"],\n",
    "                 horizontalalignment=\"center\")\n",
    "ax.set_title(\"Minnesota Pest Pressure for selected counties\", weight=\"bold\")"
   ]
  },
  {
   "cell_type": "markdown",
   "id": "d225dd28-ab94-4587-9beb-2d181d3e5fc7",
   "metadata": {},
   "source": [
    "### Spatial weights (contiguity and distance-based)"
   ]
  },
  {
   "cell_type": "markdown",
   "id": "ef85e392-0c9c-4a60-b783-1038018e8ace",
   "metadata": {},
   "source": [
    "#### Queen's case (contiguity)"
   ]
  },
  {
   "cell_type": "code",
   "execution_count": null,
   "id": "fb674b89-faee-4310-827a-667ea68199b9",
   "metadata": {},
   "outputs": [],
   "source": [
    "# calculate neighboring using Queen's case (contiguity)\n",
    "mnp_nbq = weights.contiguity.Queen.from_dataframe(mnp)\n",
    "# summarize \n",
    "print (\"Number of units: {}\".format(mnp_nbq.n))\n",
    "print (\"Number of nonzero weights: {}\".format(mnp_nbq.nonzero))\n",
    "print (\"Percentage of nonzero weights: {}\".format(mnp_nbq.pct_nonzero))\n",
    "print (\"Average number of neighbors: {}\".format(mnp_nbq.mean_neighbors))\n",
    "print (\"Largest number of neighbors is {}\".format(mnp_nbq.max_neighbors))\n",
    "print (\"Minimum number of neighbors is {}\".format(mnp_nbq.min_neighbors))\n",
    "print (\"Number of units without any neighbors {}\".format(len(mnp_nbq.islands)))\n",
    "print (\"Histogram: {}\".format(mnp_nbq.histogram))\n",
    "print (\"Neighbour list: {}\".format(mnp_nbq.neighbors))"
   ]
  },
  {
   "cell_type": "markdown",
   "id": "e5ce618e-b906-4ae3-8c12-55794a82dbcf",
   "metadata": {},
   "source": [
    "#### Rook's case (contiguity)"
   ]
  },
  {
   "cell_type": "code",
   "execution_count": null,
   "id": "982102ba-7f73-4eca-aac0-09c2a91ea8a0",
   "metadata": {},
   "outputs": [],
   "source": [
    "# calculate neighboring using Rook's case (contiguity)\n",
    "mnp_nbr = weights.contiguity.Rook.from_dataframe(mnp)\n",
    "# summarize \n",
    "print (\"Number of units: {}\".format(mnp_nbr.n))\n",
    "print (\"Number of nonzero weights: {}\".format(mnp_nbr.nonzero))\n",
    "print (\"Percentage of nonzero weights: {}\".format(mnp_nbr.pct_nonzero))\n",
    "print (\"Average number of neighbors: {}\".format(mnp_nbr.mean_neighbors))\n",
    "print (\"Largest number of neighbors is {}\".format(mnp_nbr.max_neighbors))\n",
    "print (\"Minimum number of neighbors is {}\".format(mnp_nbr.min_neighbors))\n",
    "print (\"Number of units without any neighbors {}\".format(len(mnp_nbr.islands)))\n",
    "print (\"Histogram: {}\".format(mnp_nbr.histogram))\n",
    "print (\"Neighbour list: {}\".format(mnp_nbr.neighbors))"
   ]
  },
  {
   "cell_type": "markdown",
   "id": "d6db4ddc-36f7-4a42-82c0-355b7d68d69f",
   "metadata": {},
   "source": [
    "#### K-nearest neighbors (distance-based)"
   ]
  },
  {
   "cell_type": "code",
   "execution_count": null,
   "id": "58b75896-6abe-4297-9142-4d0556b84a94",
   "metadata": {},
   "outputs": [],
   "source": [
    "# calculate neighboring using K-nearest neighbors (distance-based)\n",
    "mnp_nbk3 = weights.distance.KNN.from_dataframe(mnp, k=3)\n",
    "# summarize \n",
    "print (\"Number of units: {}\".format(mnp_nbk3.n))\n",
    "print (\"Number of nonzero weights: {}\".format(mnp_nbk3.nonzero))\n",
    "print (\"Percentage of nonzero weights: {}\".format(mnp_nbk3.pct_nonzero))\n",
    "print (\"Average number of neighbors: {}\".format(mnp_nbk3.mean_neighbors))\n",
    "print (\"Largest number of neighbors is {}\".format(mnp_nbk3.max_neighbors))\n",
    "print (\"Minimum number of neighbors is {}\".format(mnp_nbk3.min_neighbors))\n",
    "print (\"Number of units without any neighbors {}\".format(len(mnp_nbk3.islands)))\n",
    "print (\"Histogram: {}\".format(mnp_nbk3.histogram))\n",
    "print (\"Neighbour list: {}\".format(mnp_nbk3.neighbors))"
   ]
  },
  {
   "cell_type": "markdown",
   "id": "b4364163-79a8-44b6-90b3-58d354778b23",
   "metadata": {},
   "source": [
    "#### Distance (distance-based)"
   ]
  },
  {
   "cell_type": "code",
   "execution_count": null,
   "id": "3b859ab3-5b67-4617-a48d-61fb6a09074d",
   "metadata": {},
   "outputs": [],
   "source": [
    "# calculate neighboring by distance (distance-based)\n",
    "mnp_nbd = weights.distance.DistanceBand.from_dataframe(mnp, 100000, binary=True)\n",
    "# summarize \n",
    "print (\"Number of units: {}\".format(mnp_nbd.n))\n",
    "print (\"Number of nonzero weights: {}\".format(mnp_nbd.nonzero))\n",
    "print (\"Percentage of nonzero weights: {}\".format(mnp_nbd.pct_nonzero))\n",
    "print (\"Average number of neighbors: {}\".format(mnp_nbd.mean_neighbors))\n",
    "print (\"Largest number of neighbors is {}\".format(mnp_nbd.max_neighbors))\n",
    "print (\"Minimum number of neighbors is {}\".format(mnp_nbd.min_neighbors))\n",
    "print (\"Number of units without any neighbors {}\".format(len(mnp_nbd.islands)))\n",
    "print (\"Histogram: {}\".format(mnp_nbd.histogram))\n",
    "print (\"Neighbour list: {}\".format(mnp_nbd.neighbors))"
   ]
  },
  {
   "cell_type": "markdown",
   "id": "c4fcaf74-7c7e-4a76-9815-7e7170cf630f",
   "metadata": {},
   "source": [
    "### Visualize and compare weights networks"
   ]
  },
  {
   "cell_type": "code",
   "execution_count": null,
   "id": "699b607f-793d-48d8-85af-f1b0817644de",
   "metadata": {},
   "outputs": [],
   "source": [
    "fig, axs = plt.subplots(2, 2, figsize=(12, 9))\n",
    "plot_spatial_weights(mnp_nbq, mnp, ax=axs[0, 0])\n",
    "axs[0, 0].set_title(\"Queen's Case Contiguity\")\n",
    "plot_spatial_weights(mnp_nbr, mnp, ax=axs[0, 1])\n",
    "axs[0, 1].set_title(\"Rook's Case Contiguity\")\n",
    "plot_spatial_weights(mnp_nbk3, mnp, ax=axs[1, 0])\n",
    "axs[1, 0].set_title(\"K-nearest Neighbors (k=3)\")\n",
    "plot_spatial_weights(mnp_nbd, mnp, ax=axs[1, 1])\n",
    "axs[1, 1].set_title(\"Distance (100,000)\")\n",
    "plt.tight_layout()"
   ]
  },
  {
   "cell_type": "markdown",
   "id": "898d8bba-2c81-4a2d-bb29-b3d9cc39cd9c",
   "metadata": {},
   "source": [
    "### Spatial weights transformation and weights summary\n",
    "In this examples, we are setting transformations of weights and then computing an adjacency list representation of a weights object. Two different transforms are presented: `R` – Row-standardization, and `B` – Binary."
   ]
  },
  {
   "cell_type": "code",
   "execution_count": null,
   "id": "7d30fd27-d707-4010-aa20-454289015aab",
   "metadata": {},
   "outputs": [],
   "source": [
    "# Spatial Weights Summary - Row Standardized\n",
    "mnp_nbq.set_transform(\"R\")\n",
    "mnp_nbq_lw_r = mnp_nbq.to_adjlist()\n",
    "print (\"Property s0 = {}\".format(mnp_nbq.s0))\n",
    "print (\"Property s1 = {}\".format(mnp_nbq.s1))\n",
    "print (\"Property s2 = {}\".format(mnp_nbq.s2))\n",
    "print (\"Weights: {}\".format(mnp_nbq.weights))\n",
    "print (\"Weights summary: \")\n",
    "print (mnp_nbq_lw_r[\"weight\"].describe())"
   ]
  },
  {
   "cell_type": "code",
   "execution_count": null,
   "id": "0fba482b-52ae-4a45-9ff4-704d64b30531",
   "metadata": {},
   "outputs": [],
   "source": [
    "# Spatial Weights Summary - Binary\n",
    "mnp_nbq.set_transform(\"B\")\n",
    "mnp_nbq_lw_b = mnp_nbq.to_adjlist()\n",
    "print (\"Property s0 = {}\".format(mnp_nbq.s0))\n",
    "print (\"Property s1 = {}\".format(mnp_nbq.s1))\n",
    "print (\"Property s2 = {}\".format(mnp_nbq.s2))\n",
    "print (\"Weights: {}\".format(mnp_nbq.weights))\n",
    "print (\"Weights summary: \")\n",
    "print (mnp_nbq_lw_b[\"weight\"].describe())"
   ]
  },
  {
   "cell_type": "markdown",
   "id": "2e31ec2c-9d47-4530-8493-b435f106b091",
   "metadata": {},
   "source": [
    "### Spatial Autocorrelation with Moran’s I Global Statistic\n",
    "Moran's I statistic measures spatial autocorrelation based on feature locations and feature values simultaneously. It allows to evaluate whether the pattern presented by the features is clustered, dispersed, or random."
   ]
  },
  {
   "cell_type": "code",
   "execution_count": null,
   "id": "29f76c67-e5f7-4a26-aac9-4f8d36ef0fe1",
   "metadata": {},
   "outputs": [],
   "source": [
    "mi = esda.moran.Moran(mnp[\"PEST\"], mnp_nbq)\n",
    "print (\"Moran's I statistic: {}\".format(mi.I))\n",
    "print (\"p-value of I under randomization assumption: {}\".format(mi.p_rand))\n",
    "print (\"variance of I under randomization assumption: {}\".format(mi.VI_rand))\n",
    "print (\"Expected value under normality assumption: {}\".format(mi.EI))"
   ]
  },
  {
   "cell_type": "markdown",
   "id": "1c0f93eb-d534-4809-90ed-84a3ca59b85d",
   "metadata": {},
   "source": [
    "### Visualize Moran's I plot"
   ]
  },
  {
   "cell_type": "code",
   "execution_count": null,
   "id": "08f7980a-ef60-4fd7-8d7f-ee95a0bfff99",
   "metadata": {},
   "outputs": [],
   "source": [
    "plot_moran(mi, zstandard=False, figsize=(10,4))\n",
    "plt.show()"
   ]
  },
  {
   "cell_type": "markdown",
   "id": "477e2f3c-4513-4dc1-820e-49714593a274",
   "metadata": {},
   "source": [
    "### Spatial Regression Models"
   ]
  },
  {
   "cell_type": "markdown",
   "id": "32e6f410-43a4-4170-8bca-f3b563fbc40e",
   "metadata": {},
   "source": [
    "#### ML estimation of the spatial lag model"
   ]
  },
  {
   "cell_type": "code",
   "execution_count": null,
   "id": "51b89559-154c-45ae-ad03-366e6f5df9aa",
   "metadata": {},
   "outputs": [],
   "source": [
    "y = mnp[\"PEST\"].to_numpy()\n",
    "x = mnp[[\"HOST\"]].values\n",
    "mnp_slm = ML_Lag(y, x, mnp_nbq, name_w=\"Queen's Case\", name_x=[\"HOST\"], name_y=\"PEST\", \n",
    "                 name_ds=\"MN Pest Pressure\")\n",
    "print (\"Estimate of spatial autoregressive coefficient rho: {}\".format(mnp_slm.rho))\n",
    "print(mnp_slm.summary)"
   ]
  },
  {
   "cell_type": "markdown",
   "id": "11bf0e66-edf9-4bee-8d07-684cd88d0a33",
   "metadata": {},
   "source": [
    "#### ML estimation of the spatial error model"
   ]
  },
  {
   "cell_type": "code",
   "execution_count": null,
   "id": "06bd6626-1488-4ce3-bb14-59a93ff0751e",
   "metadata": {},
   "outputs": [],
   "source": [
    "mnp_sem = ML_Error(y, x, mnp_nbq, name_w=\"Queen's Case\", name_x=[\"HOST\"], name_y=\"PEST\", \n",
    "                   name_ds=\"MN Pest Pressure\")\n",
    "print(mnp_sem.summary)"
   ]
  },
  {
   "cell_type": "markdown",
   "id": "d748cdbc-336e-4987-a811-517f372b1f83",
   "metadata": {},
   "source": [
    "#### Spatial Durbin model\n",
    "Although some models are not directly offered by PySal APIs, they can be derived from existing standard models. For example, a spatial Durbin model can be estimated by computing a spatial lag of  independent variables and then adding the set of lagged variables to the original independent variables to run a spatial lag model.  "
   ]
  },
  {
   "cell_type": "code",
   "execution_count": null,
   "id": "29fa92cd-36a4-4d41-b9a6-38d8db320d5b",
   "metadata": {},
   "outputs": [],
   "source": [
    "lag_x = weights.lag_spatial(mnp_nbq, x)\n",
    "new_x = np.hstack((x,lag_x))\n",
    "mnp_sdm = ML_Lag(y, new_x, mnp_nbq, name_w=\"Queen's Case\", name_x=[\"HOST\"], name_y=\"PEST\", \n",
    "                 name_ds=\"MN Pest Pressure\")\n",
    "print (\"Estimate of spatial autoregressive coefficient rho: {}\".format(mnp_sdm.rho))\n",
    "print(mnp_sdm.summary)"
   ]
  },
  {
   "cell_type": "markdown",
   "id": "e0d8679f-5532-4abd-848f-faaeb0031543",
   "metadata": {},
   "source": [
    "#### Ordinary least squares model"
   ]
  },
  {
   "cell_type": "code",
   "execution_count": null,
   "id": "a6511818-1eaa-461f-87b1-5d033e810ebb",
   "metadata": {},
   "outputs": [],
   "source": [
    "mnp_ols = OLS(y, x, mnp_nbq, name_w=\"Queen's Case\", name_x=[\"HOST\"], name_y=\"PEST\", \n",
    "                 name_ds=\"MN Pest Pressure\", spat_diag=True)\n",
    "print(mnp_ols.summary)"
   ]
  },
  {
   "cell_type": "markdown",
   "id": "b333828c-c758-4b7c-a04c-47442fc41b23",
   "metadata": {},
   "source": [
    "#### Moran's I test on ordinary least squares model residuals"
   ]
  },
  {
   "cell_type": "code",
   "execution_count": null,
   "id": "d8d0f133-9993-4d8b-bbe2-344ad21b1486",
   "metadata": {},
   "outputs": [],
   "source": [
    "mi_ols = esda.moran.Moran(mnp_ols.u, mnp_nbq)\n",
    "print (\"Moran's I statistic: {}\".format(mi_ols.I))\n",
    "print (\"p-value of I under randomization assumption: {}\".format(mi_ols.p_rand))\n",
    "print (\"variance of I under randomization assumption: {}\".format(mi_ols.VI_rand))\n",
    "print (\"Expected value under normality assumption: {}\".format(mi_ols.EI))"
   ]
  },
  {
   "cell_type": "code",
   "execution_count": null,
   "id": "d3383c66-6569-4abb-920d-6bd3de727cc8",
   "metadata": {},
   "outputs": [],
   "source": [
    "plot_moran(mi_ols, zstandard=False, figsize=(10,4))\n",
    "plt.show()"
   ]
  },
  {
   "cell_type": "markdown",
   "id": "29dad286-3743-4bd6-8d8e-09a6e8c904a6",
   "metadata": {},
   "source": [
    "## Exercises\n",
    "For the exercies, data are created and saved to the directory `./data-module-4/`.\n",
    "- `mwi.shp` -  a dataset downloaded from the Malawi Living Standard Measurement Survey Integrated Household Sample (LSMS-IHS) Data Wave 5 Data (available from https://microdata.worldbank.org/index.php/catalog/3818)."
   ]
  },
  {
   "cell_type": "markdown",
   "id": "dc27f90a-ce71-400d-a829-7ccc5e1bc44a",
   "metadata": {},
   "source": [
    "**Question 1. Read the vector dataset `mwi.shp` into a `GeoDataFrame`. Print its Coordinate Reference System.**"
   ]
  },
  {
   "cell_type": "code",
   "execution_count": null,
   "id": "7c928cec-daa9-4b88-80d6-3ffa42c99c3b",
   "metadata": {},
   "outputs": [],
   "source": []
  },
  {
   "cell_type": "markdown",
   "id": "c4eb4558-9602-4747-bef6-77e5adf29113",
   "metadata": {},
   "source": [
    "**Question 2. Calculate neighboring using Queen's case (contiguity), Rook's case (contiguity), K-nearest neighbors (k=3), and distance (200,000 m). Print the properties for each neighbouring, such as number of units, number of nonzero weights, etc.**"
   ]
  },
  {
   "cell_type": "code",
   "execution_count": null,
   "id": "622ea9e8-f762-4a48-bc4c-8a969971d7e9",
   "metadata": {},
   "outputs": [],
   "source": []
  },
  {
   "cell_type": "markdown",
   "id": "5cdbb6a6-e687-440c-9411-37c272d12087",
   "metadata": {},
   "source": [
    "**Question 3. Visualize and compare all 4 weights networks. What differences do you see?**"
   ]
  },
  {
   "cell_type": "code",
   "execution_count": null,
   "id": "6d600510-201c-43ee-a32f-52c8c20a5176",
   "metadata": {},
   "outputs": [],
   "source": []
  },
  {
   "cell_type": "markdown",
   "id": "ec8358f2-1fe3-41a2-9aad-b23b971dfaab",
   "metadata": {},
   "source": [
    "**Question 4. Apply row-standardized and binary transforms to your Queen's case neighbourhood. Compare their summaries.**"
   ]
  },
  {
   "cell_type": "code",
   "execution_count": null,
   "id": "18681963-7cd5-437e-b085-4a03266da265",
   "metadata": {},
   "outputs": [],
   "source": []
  },
  {
   "cell_type": "markdown",
   "id": "c8a593c2-1247-43e9-886b-7ad2ebd4f68b",
   "metadata": {},
   "source": [
    "**Question 5. Run the Moran's I statistic to test the spatial autocorrelation for `poverty` variable. Use Queen's case neighbouring structure.**"
   ]
  },
  {
   "cell_type": "code",
   "execution_count": null,
   "id": "469718e7-25e4-498a-b4c5-904d5abde10c",
   "metadata": {},
   "outputs": [],
   "source": []
  },
  {
   "cell_type": "markdown",
   "id": "40df2fea-ebbe-4066-b988-216b97da5a7a",
   "metadata": {},
   "source": [
    "**Question 6. Visualize Moran's I plot for `poverty` variable.**"
   ]
  },
  {
   "cell_type": "code",
   "execution_count": null,
   "id": "40f5ccbc-d1be-4d49-ad9c-2027a06c2b6b",
   "metadata": {},
   "outputs": [],
   "source": []
  },
  {
   "cell_type": "markdown",
   "id": "413d1a58-5f03-4cb4-acff-0e662edbdd91",
   "metadata": {},
   "source": [
    "**Question 7. Run ML estimation of the spatial lag model. Use Queen's case neighbouring structure. Predict `poverty` as a function of cropland cultivated (`croplnd`), livestock owned (`livstck`), share of off-farm income (`income`), years of education (`edu`), female head of household (`female`) and tobacco growing household (`tobccHH`).**"
   ]
  },
  {
   "cell_type": "code",
   "execution_count": null,
   "id": "81c56bcb-2296-42d0-92fa-85d40a83a57c",
   "metadata": {},
   "outputs": [],
   "source": []
  },
  {
   "cell_type": "markdown",
   "id": "3b370909-8229-4227-8709-5ab5747418c2",
   "metadata": {},
   "source": [
    "**Question 8. Run the Ordinary least squares model. Use Queen's case neighbouring structure. Use the same `x` and `y` variables as for the previous question.**"
   ]
  },
  {
   "cell_type": "code",
   "execution_count": null,
   "id": "ed568384-7ed1-4ba0-b794-51f25b34e840",
   "metadata": {},
   "outputs": [],
   "source": []
  }
 ],
 "metadata": {
  "kernelspec": {
   "display_name": "Python 3 (ipykernel)",
   "language": "python",
   "name": "python3"
  },
  "language_info": {
   "codemirror_mode": {
    "name": "ipython",
    "version": 3
   },
   "file_extension": ".py",
   "mimetype": "text/x-python",
   "name": "python",
   "nbconvert_exporter": "python",
   "pygments_lexer": "ipython3",
   "version": "3.11.0"
  }
 },
 "nbformat": 4,
 "nbformat_minor": 5
}
